{
 "cells": [
  {
   "cell_type": "markdown",
   "metadata": {},
   "source": [
    "# [Intelligent Earth Zotero Group Library](https://www.zotero.org/groups/2324777/slippery_future) "
   ]
  },
  {
   "cell_type": "markdown",
   "metadata": {},
   "source": [
    "# xarray\n",
    "\n",
    "[How should I cite xarray?](http://xarray.pydata.org/en/stable/faq.html)\n",
    "If you are using xarray and would like to cite it in academic publication, we would certainly appreciate it. We recommend two citations.\n",
    "\n",
    "At a minimum, we recommend citing the xarray overview journal article, published in the Journal of Open Research Software.\n",
    "\n",
    "Hoyer, S. & Hamman, J., (2017). xarray: N-D labeled Arrays and Datasets in Python. Journal of Open Research Software. 5(1), p.10. DOI: http://doi.org/10.5334/jors.148\n",
    "\n",
    "Here’s an example of a BibTeX entry:"
   ]
  },
  {
   "cell_type": "markdown",
   "metadata": {},
   "source": [
    "@article{hoyer2017xarray,\n",
    "  title     = {xarray: {N-D} labeled arrays and datasets in {Python}},\n",
    "  author    = {Hoyer, S. and J. Hamman},\n",
    "  journal   = {Journal of Open Research Software},\n",
    "  volume    = {5},\n",
    "  number    = {1},\n",
    "  year      = {2017},\n",
    "  publisher = {Ubiquity Press},\n",
    "  doi       = {10.5334/jors.148},\n",
    "  url       = {http://doi.org/10.5334/jors.148}\n",
    "}"
   ]
  },
  {
   "cell_type": "code",
   "execution_count": 5,
   "metadata": {},
   "outputs": [
    {
     "data": {
      "text/plain": [
       "'0.16.0'"
      ]
     },
     "execution_count": 5,
     "metadata": {},
     "output_type": "execute_result"
    }
   ],
   "source": [
    "import xarray\n",
    "xarray.__version__"
   ]
  },
  {
   "cell_type": "markdown",
   "metadata": {},
   "source": [
    "Here is the badge for pydata/xarray: v0.16.0\n",
    "    \n",
    "[![DOI](https://zenodo.org/badge/DOI/10.5281/zenodo.3940662.svg)](https://doi.org/10.5281/zenodo.3940662)\n",
    "\n",
    "Stephan Hoyer, Joe Hamman, Maximilian Roos, Deepak Cherian, Clark Fitzgerald, Keisuke Fujii, … johnomotani. (2020, July 11). pydata/xarray: v0.16.0 (Version v0.16.0). Zenodo. http://doi.org/10.5281/zenodo.3940662"
   ]
  },
  {
   "cell_type": "code",
   "execution_count": null,
   "metadata": {},
   "outputs": [],
   "source": []
  },
  {
   "cell_type": "code",
   "execution_count": null,
   "metadata": {},
   "outputs": [],
   "source": []
  },
  {
   "cell_type": "code",
   "execution_count": null,
   "metadata": {},
   "outputs": [],
   "source": []
  },
  {
   "cell_type": "code",
   "execution_count": null,
   "metadata": {},
   "outputs": [],
   "source": []
  },
  {
   "cell_type": "markdown",
   "metadata": {},
   "source": [
    "# Software used \n",
    "\n",
    "Landlab kernel on CyberGIS for Water"
   ]
  },
  {
   "cell_type": "code",
   "execution_count": 9,
   "metadata": {},
   "outputs": [
    {
     "name": "stdout",
     "output_type": "stream",
     "text": [
      "Today's date: 2020-07-24\n"
     ]
    }
   ],
   "source": [
    "from datetime import date\n",
    "today = date.today()\n",
    "print(\"Today's date:\", today)"
   ]
  },
  {
   "cell_type": "code",
   "execution_count": 10,
   "metadata": {},
   "outputs": [
    {
     "name": "stdout",
     "output_type": "stream",
     "text": [
      "environ({'CPU_GUARANTEE': '0.1', 'MINICONDA_VERSION': '4.7.10', 'LANGUAGE': 'en_US.UTF-8', 'HOSTNAME': '7c78693c5fda', 'JUPYTERHUB_HOST': '', 'JUPYTERHUB_USER': 'christinabandaragoda', 'SHLVL': '0', 'XDG_CACHE_HOME': '/home/jovyan/.cache/', 'HS_AUTH_SOURCE': 'spawner', 'HOME': '/home/jovyan', 'CONDA_VERSION': '4.7.12', 'JUPYTERHUB_API_URL': 'http://5f6c39602f3f:8081/hub/api', 'JUPYTERHUB_OAUTH_CALLBACK_URL': '/user/christinabandaragoda/oauth_callback', 'FC': 'gfortran', 'NB_USER': 'jovyan', 'XSEDE_KEY_PATH': '/home/cybergis/.xsede-gateway-attributes-apikey-cjw', 'JUPYTERHUB_CLIENT_ID': 'jupyterhub-user-christinabandaragoda', 'FC_EXE': 'gfortran', 'PATH': '/opt/conda/bin:/usr/local/sbin:/usr/local/bin:/usr/sbin:/usr/bin:/sbin:/bin', 'JUPYTERHUB_ACTIVITY_URL': 'http://5f6c39602f3f:8081/hub/api/users/christinabandaragoda/activity', 'MEM_LIMIT': '8589934592', 'NB_GID': '100', 'LANG': 'en_US.UTF-8', 'FC_ENV': 'gfortran-6-docker', 'DEBIAN_FRONTEND': 'noninteractive', 'CPU_LIMIT': '2.0', 'SHELL': '/bin/bash', 'F_MASTER': '/tmp/summa', 'JUPYTERHUB_ADMIN_ACCESS': '1', 'CONDA_DIR': '/opt/conda', 'JUPYTERHUB_SERVICE_PREFIX': '/user/christinabandaragoda/', 'HS_AUTH': '[{\"access_token\": \"ed0v3gqY7rANZuqfXaTfvhZrPTl0Wk\", \"refresh_token\": \"rXRXhOn4HGqKf8djGgfcQBXm0YJKzI\", \"oauth_user\": {\"username\": \"ChristinaBandaragoda\", \"email\": \"cband@uw.edu\", \"first_name\": \"Christina\", \"id\": 259, \"last_name\": \"Bandaragoda\", \"title\": \"Senior Research Scientist\", \"organization\": \"University of Washington\"}, \"scope\": \"read write\", \"expires_in\": 2592000, \"token_type\": \"Bearer\"}, \"gTxS2TgfSpOFfwzkB38Gg6KNWwb35HNbTh04RwK2\"]', 'LC_ALL': 'en_US.UTF-8', 'PROJ_LIB': '/opt/conda/share/proj', 'PWD': '/home/jovyan', 'JUPYTERHUB_API_TOKEN': 'a1ba1c0fe6174161acf40b8a7becf3f8', 'JUPYTERHUB_BASE_URL': '/', 'JUPYTERHUB_SERVER_NAME': '', 'MEM_GUARANTEE': '268435456', 'NB_UID': '1000', 'JPY_API_TOKEN': 'a1ba1c0fe6174161acf40b8a7becf3f8', 'GDAL_DATA': '/opt/conda/share/gdal', 'MINICONDA_MD5': '1c945f2b3335c7b2b15130b1b2dc5cf4', 'KERNEL_LAUNCH_TIMEOUT': '40', 'JPY_PARENT_PID': '6', 'TERM': 'xterm-color', 'CLICOLOR': '1', 'PAGER': 'cat', 'GIT_PAGER': 'cat', 'MPLBACKEND': 'module://ipykernel.pylab.backend_inline'})\n"
     ]
    }
   ],
   "source": [
    "import os\n",
    "print(os.environ)"
   ]
  },
  {
   "cell_type": "code",
   "execution_count": 3,
   "metadata": {},
   "outputs": [
    {
     "name": "stdout",
     "output_type": "stream",
     "text": [
      "affine==2.3.0\r\n",
      "alembic==1.3.0\r\n",
      "appdirs==1.4.4\r\n",
      "async-generator==1.10\r\n",
      "attrs==19.3.0\r\n",
      "backcall==0.1.0\r\n",
      "beautifulsoup4==4.8.1\r\n",
      "bleach==3.1.0\r\n",
      "blinker==1.4\r\n",
      "bokeh==1.3.4\r\n",
      "certifi==2020.4.5.1\r\n",
      "certipy==0.1.3\r\n",
      "cffi==1.13.2\r\n",
      "chardet==3.0.4\r\n",
      "Click==7.0\r\n",
      "click-plugins==1.1.1\r\n",
      "cligj==0.5.0\r\n",
      "cloudpickle==1.2.2\r\n",
      "conda==4.7.12\r\n",
      "conda-package-handling==1.6.0\r\n",
      "cryptography==2.8\r\n",
      "cycler==0.10.0\r\n",
      "Cython==0.29.14\r\n",
      "cytoolz==0.10.1\r\n",
      "dask==2.2.0\r\n",
      "decorator==4.4.1\r\n",
      "defusedxml==0.6.0\r\n",
      "dill==0.3.1.1\r\n",
      "distributed==2.5.2\r\n",
      "entrypoints==0.3\r\n",
      "fastcache==1.1.0\r\n",
      "fsspec==0.5.2\r\n",
      "future==0.18.2\r\n",
      "GDAL==2.4.2\r\n",
      "geojson==2.5.0\r\n",
      "gmpy2==2.1.0b1\r\n",
      "h5py==2.9.0\r\n",
      "HeapDict==1.0.1\r\n",
      "hs-restclient==1.3.6\r\n",
      "html5lib==0.9999999\r\n",
      "idna==2.8\r\n",
      "imageio==2.6.1\r\n",
      "importlib-metadata==0.23\r\n",
      "ipykernel==5.1.3\r\n",
      "ipython==7.9.0\r\n",
      "ipython-genutils==0.2.0\r\n",
      "ipywidgets==7.5.1\r\n",
      "isodate==0.6.0\r\n",
      "jedi==0.15.1\r\n",
      "Jinja2==2.10.3\r\n",
      "joblib==0.14.0\r\n",
      "json5==0.8.5\r\n",
      "jsonschema==3.1.1\r\n",
      "jupyter-client==5.3.3\r\n",
      "jupyter-contrib-core==0.3.3\r\n",
      "jupyter-contrib-nbextensions==0.2.6\r\n",
      "jupyter-core==4.5.0\r\n",
      "jupyter-highlight-selected-word==0.2.0\r\n",
      "jupyter-latex-envs==1.4.6\r\n",
      "jupyter-nbextensions-configurator==0.4.1\r\n",
      "jupyterhub==1.0.0\r\n",
      "jupyterlab==1.2.1\r\n",
      "jupyterlab-server==1.0.6\r\n",
      "kiwisolver==1.1.0\r\n",
      "llvmlite==0.29.0\r\n",
      "locket==0.2.0\r\n",
      "lxml==4.5.2\r\n",
      "Mako==1.1.0\r\n",
      "MarkupSafe==1.1.1\r\n",
      "matplotlib==3.1.2\r\n",
      "mistune==0.8.4\r\n",
      "more-itertools==7.2.0\r\n",
      "mpmath==1.1.0\r\n",
      "msgpack==0.6.2\r\n",
      "nbconvert==5.6.1\r\n",
      "nbfetch==0.0.3\r\n",
      "nbformat==4.4.0\r\n",
      "networkx==2.4\r\n",
      "notebook==6.0.0\r\n",
      "numba==0.45.1\r\n",
      "numexpr==2.6.9\r\n",
      "numpy==1.17.3\r\n",
      "oauthlib==3.0.1\r\n",
      "olefile==0.46\r\n",
      "packaging==19.2\r\n",
      "pamela==1.0.0\r\n",
      "pandas==0.25.3\r\n",
      "pandocfilters==1.4.2\r\n",
      "parso==0.5.1\r\n",
      "partd==1.0.0\r\n",
      "patsy==0.5.1\r\n",
      "pexpect==4.7.0\r\n",
      "pickleshare==0.7.5\r\n",
      "Pillow==6.2.1\r\n",
      "prometheus-client==0.7.1\r\n",
      "prompt-toolkit==2.0.10\r\n",
      "protobuf==3.9.2\r\n",
      "psutil==5.6.5\r\n",
      "ptyprocess==0.6.0\r\n",
      "pycosat==0.6.3\r\n",
      "pycparser==2.19\r\n",
      "pycurl==7.43.0.3\r\n",
      "Pygments==2.4.2\r\n",
      "PyJWT==1.7.1\r\n",
      "pyOpenSSL==19.0.0\r\n",
      "pyparsing==2.4.4\r\n",
      "pyrsistent==0.15.5\r\n",
      "PySocks==1.7.1\r\n",
      "python-dateutil==2.8.1\r\n",
      "python-editor==1.0.4\r\n",
      "pytz==2019.3\r\n",
      "PyWavelets==1.1.1\r\n",
      "PyYAML==5.1.2\r\n",
      "pyzmq==18.1.0\r\n",
      "rasterio==1.1.5\r\n",
      "requests==2.22.0\r\n",
      "requests-oauthlib==1.3.0\r\n",
      "requests-toolbelt==0.9.1\r\n",
      "ruamel-yaml==0.15.71\r\n",
      "scikit-image==0.15.0\r\n",
      "scikit-learn==0.21.3\r\n",
      "scipy==1.3.1\r\n",
      "seaborn==0.9.0\r\n",
      "Send2Trash==1.5.0\r\n",
      "six==1.13.0\r\n",
      "snuggs==1.4.7\r\n",
      "sortedcontainers==2.1.0\r\n",
      "soupsieve==1.9.4\r\n",
      "SQLAlchemy==1.3.10\r\n",
      "statsmodels==0.10.1\r\n",
      "suds-jurko==0.6\r\n",
      "sympy==1.4\r\n",
      "tables==3.6.1\r\n",
      "tblib==1.4.0\r\n",
      "terminado==0.8.2\r\n",
      "testpath==0.4.4\r\n",
      "toolz==0.10.0\r\n",
      "tornado==6.0.3\r\n",
      "tqdm==4.37.0\r\n",
      "traitlets==4.3.3\r\n",
      "ulmo==0.8.5\r\n",
      "urllib3==1.25.6\r\n",
      "vincent==0.4.4\r\n",
      "wcwidth==0.1.7\r\n",
      "webencodings==0.5.1\r\n",
      "widgetsnbextension==3.5.1\r\n",
      "xlrd==1.2.0\r\n",
      "zict==1.0.0\r\n",
      "zipp==0.6.0\r\n"
     ]
    }
   ],
   "source": [
    "!pip freeze xarray"
   ]
  },
  {
   "cell_type": "markdown",
   "metadata": {},
   "source": [
    "# References"
   ]
  },
  {
   "cell_type": "markdown",
   "metadata": {},
   "source": [
    "Gariano, S.L., Guzzetti, F., 2016. Landslides in a changing climate. Earth-Science Reviews 162, 227–252. https://doi.org/10.1016/j.earscirev.2016.08.011\n",
    "\n",
    "Hobley, D.E.J., Adams, J.M., Nudurupati, S.S., Hutton, E.W.H., Gasparini, N.M., Istanbulluoglu, E., Tucker, G.E., 2017. Creative computing with Landlab: an open-source toolkit for building, coupling, and exploring two-dimensional numerical models of Earth-surface dynamics. Earth Surface Dynamics 5, 21–46. https://doi.org/10.5194/esurf-5-21-2017\n",
    "\n",
    "Hoyer, S., Hamman, J., 2017. xarray: N-D labeled Arrays and Datasets in Python. Journal of Open Research Software 5, 10. https://doi.org/10.5334/jors.148\n",
    "IEEE Xplore Abstract Record, n.d.\n",
    "\n",
    "Stephan Hoyer, Joe Hamman, Maximilian Roos, Deepak Cherian, Clark Fitzgerald, Keisuke Fujii, Fabien Maussion, keewis, crusaderky, Alex Kleeman, Spencer Clark, Thomas Kluyver, James Munroe, Tom Nicholas, Zac Hatfield-Dodds, Mathias Hauser, Ryan Abernathey, MaximilianR, Phillip J. Wolfram, Julia Signell, Yohai Bar Sinai, Jonathan J. Helmus, Gregory Gundersen, Markel, Pete Cable, Benoit Bovy, Andrew Barna, Gerardo Rivera, Matthew Rocklin, johnomotani, 2020. pydata/xarray: v0.16.0. Zenodo. https://doi.org/10.5281/zenodo.3940662\n",
    "\n",
    "Strauch, R., Istanbulluoglu, E., Nudurupati, S.S., Bandaragoda, C., Gasparini, N.M., Tucker, G.E., 2018. A hydroclimatological approach to predicting regional landslide probability using Landlab. Earth Surface Dynamics 6, 49–75. https://doi.org/10.5194/esurf-6-49-2018\n",
    "Submitted Version, n.d.\n"
   ]
  },
  {
   "attachments": {
    "image.png": {
     "image/png": "[encoded data removed]"
    }
   },
   "cell_type": "markdown",
   "metadata": {},
   "source": [
    "# [References - Bibtex](SlipperyFuture-ZenodoExported-20200724.bib)\n",
    "Click here and you will have the option to import to your Zotero account. \n",
    "![image.png](attachment:image.png)"
   ]
  },
  {
   "cell_type": "code",
   "execution_count": null,
   "metadata": {},
   "outputs": [],
   "source": []
  }
 ],
 "metadata": {
  "kernelspec": {
   "display_name": "Landlab",
   "language": "python",
   "name": "landlab"
  },
  "language_info": {
   "codemirror_mode": {
    "name": "ipython",
    "version": 3
   },
   "file_extension": ".py",
   "mimetype": "text/x-python",
   "name": "python",
   "nbconvert_exporter": "python",
   "pygments_lexer": "ipython3",
   "version": "3.7.6"
  }
 },
 "nbformat": 4,
 "nbformat_minor": 2
}
